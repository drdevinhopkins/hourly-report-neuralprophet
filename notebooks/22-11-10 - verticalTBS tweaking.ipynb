{
 "cells": [
  {
   "cell_type": "code",
   "execution_count": 3,
   "metadata": {},
   "outputs": [
    {
     "name": "stderr",
     "output_type": "stream",
     "text": [
      "COMET WARNING: As you are running in a Jupyter environment, you will need to call `experiment.end()` when finished to ensure all metrics and code are logged before exiting.\n",
      "COMET INFO: Experiment is live on comet.com https://www.comet.com/drdevinhopkins/verticaltbs-tweaking/72c56e865c6f454b8aa2f575b979218e\n",
      "\n",
      "WARNING - (py.warnings._showwarnmsg) - /home/codespace/.local/lib/python3.10/site-packages/neuralprophet/df_utils.py:1036: FutureWarning: In a future version, `df.iloc[:, i] = newvals` will attempt to set the values inplace instead of always setting a new array. To retain the old behavior, use either `df[df.columns[i]] = newvals` or, if columns are non-unique, `df.isetitem(i, newvals)`\n",
      "  df.loc[:, \"ds\"] = pd.to_datetime(df.loc[:, \"ds\"])\n",
      "\n",
      "WARNING - (py.warnings._showwarnmsg) - /home/codespace/.local/lib/python3.10/site-packages/neuralprophet/df_utils.py:1036: FutureWarning: In a future version, `df.iloc[:, i] = newvals` will attempt to set the values inplace instead of always setting a new array. To retain the old behavior, use either `df[df.columns[i]] = newvals` or, if columns are non-unique, `df.isetitem(i, newvals)`\n",
      "  df.loc[:, \"ds\"] = pd.to_datetime(df.loc[:, \"ds\"])\n",
      "\n",
      "WARNING - (py.warnings._showwarnmsg) - /home/codespace/.local/lib/python3.10/site-packages/neuralprophet/df_utils.py:1036: FutureWarning: In a future version, `df.iloc[:, i] = newvals` will attempt to set the values inplace instead of always setting a new array. To retain the old behavior, use either `df[df.columns[i]] = newvals` or, if columns are non-unique, `df.isetitem(i, newvals)`\n",
      "  df.loc[:, \"ds\"] = pd.to_datetime(df.loc[:, \"ds\"])\n",
      "\n",
      "WARNING - (py.warnings._showwarnmsg) - /home/codespace/.local/lib/python3.10/site-packages/neuralprophet/df_utils.py:193: FutureWarning: In a future version, `df.iloc[:, i] = newvals` will attempt to set the values inplace instead of always setting a new array. To retain the old behavior, use either `df[df.columns[i]] = newvals` or, if columns are non-unique, `df.isetitem(i, newvals)`\n",
      "  df.loc[:, \"ds\"] = pd.to_datetime(df.loc[:, \"ds\"])\n",
      "\n",
      "WARNING - (py.warnings._showwarnmsg) - /home/codespace/.local/lib/python3.10/site-packages/neuralprophet/df_utils.py:193: FutureWarning: In a future version, `df.iloc[:, i] = newvals` will attempt to set the values inplace instead of always setting a new array. To retain the old behavior, use either `df[df.columns[i]] = newvals` or, if columns are non-unique, `df.isetitem(i, newvals)`\n",
      "  df.loc[:, \"ds\"] = pd.to_datetime(df.loc[:, \"ds\"])\n",
      "\n"
     ]
    },
    {
     "data": {
      "application/vnd.jupyter.widget-view+json": {
       "model_id": "97281c684f42425ab35205092adc39ff",
       "version_major": 2,
       "version_minor": 0
      },
      "text/plain": [
       "  0%|          | 0/159 [00:00<?, ?it/s]"
      ]
     },
     "metadata": {},
     "output_type": "display_data"
    },
    {
     "name": "stderr",
     "output_type": "stream",
     "text": [
      "WARNING - (py.warnings._showwarnmsg) - /home/codespace/.local/lib/python3.10/site-packages/torch/nn/modules/loss.py:928: UserWarning: Using a target size (torch.Size([64, 12, 1])) that is different to the input size (torch.Size([64, 12, 3])). This will likely lead to incorrect results due to broadcasting. Please ensure they have the same size.\n",
      "  return F.smooth_l1_loss(input, target, reduction=self.reduction, beta=self.beta)\n",
      "\n",
      "WARNING - (py.warnings._showwarnmsg) - /home/codespace/.local/lib/python3.10/site-packages/torch/nn/modules/loss.py:928: UserWarning: Using a target size (torch.Size([318, 12, 1])) that is different to the input size (torch.Size([318, 12, 3])). This will likely lead to incorrect results due to broadcasting. Please ensure they have the same size.\n",
      "  return F.smooth_l1_loss(input, target, reduction=self.reduction, beta=self.beta)\n",
      "\n"
     ]
    },
    {
     "data": {
      "application/vnd.jupyter.widget-view+json": {
       "model_id": "875a7df794af4576b9255566f44cabe0",
       "version_major": 2,
       "version_minor": 0
      },
      "text/plain": [
       "  0%|          | 0/159 [00:00<?, ?it/s]"
      ]
     },
     "metadata": {},
     "output_type": "display_data"
    },
    {
     "name": "stderr",
     "output_type": "stream",
     "text": [
      "COMET INFO: ---------------------------                                                                                                                                              \n",
      "COMET INFO: Comet.ml Experiment Summary\n",
      "COMET INFO: ---------------------------\n",
      "COMET INFO:   Data:\n",
      "COMET INFO:     display_summary_level : 1\n",
      "COMET INFO:     url                   : https://www.comet.com/drdevinhopkins/verticaltbs-tweaking/72c56e865c6f454b8aa2f575b979218e\n",
      "COMET INFO:   Metrics [count] (min, max):\n",
      "COMET INFO:     Loss             : 0.02250959606115462\n",
      "COMET INFO:     MAE              : 3.919840821137239\n",
      "COMET INFO:     MAE_val          : 5.537649207983535\n",
      "COMET INFO:     RMSE             : 5.038371241620564\n",
      "COMET INFO:     RMSE_val         : 7.242626887921708\n",
      "COMET INFO:     RegLoss          : 0.0\n",
      "COMET INFO:     SmoothL1Loss     : 0.016240989541921803\n",
      "COMET INFO:     SmoothL1Loss_val : 0.03344899333251741\n",
      "COMET INFO:     loss [3083]      : (0.015120898373425007, 68.13277435302734)\n",
      "COMET INFO:   Parameters:\n",
      "COMET INFO:     changepoints_range : 0.95\n",
      "COMET INFO:     daily_seasonality  : True\n",
      "COMET INFO:     n_changepoints     : 50\n",
      "COMET INFO:     n_forecasts        : 12\n",
      "COMET INFO:     n_lags             : 1\n",
      "COMET INFO:     quantiles          : [0.2, 0.5, 0.8]\n",
      "COMET INFO:     weekly_seasonality : True\n",
      "COMET INFO:     yearly_seasonality : False\n",
      "COMET INFO:   Uploads:\n",
      "COMET INFO:     environment details : 1\n",
      "COMET INFO:     filename            : 1\n",
      "COMET INFO:     git metadata        : 1\n",
      "COMET INFO:     installed packages  : 1\n",
      "COMET INFO:     model graph         : 1\n",
      "COMET INFO:     notebook            : 1\n",
      "COMET INFO:     os packages         : 1\n",
      "COMET INFO:     source_code         : 1\n",
      "COMET INFO: ---------------------------\n"
     ]
    },
    {
     "name": "stdout",
     "output_type": "stream",
     "text": [
      "    SmoothL1Loss       MAE      RMSE     Loss  RegLoss  SmoothL1Loss_val  \\\n",
      "81      0.016241  3.919841  5.038371  0.02251      0.0          0.033449   \n",
      "\n",
      "     MAE_val  RMSE_val  \n",
      "81  5.537649  7.242627  \n"
     ]
    },
    {
     "name": "stderr",
     "output_type": "stream",
     "text": [
      "COMET ERROR: Error sending a notification, make sure you have opted-in for notifications\n",
      "COMET INFO: Uploading 1 metrics, params and output messages\n",
      "COMET WARNING: As you are running in a Jupyter environment, you will need to call `experiment.end()` when finished to ensure all metrics and code are logged before exiting.\n",
      "COMET INFO: Experiment is live on comet.com https://www.comet.com/drdevinhopkins/verticaltbs-tweaking/327884fb392c44508238b86c15eeb970\n",
      "\n",
      "WARNING - (py.warnings._showwarnmsg) - /home/codespace/.local/lib/python3.10/site-packages/neuralprophet/df_utils.py:1036: FutureWarning: In a future version, `df.iloc[:, i] = newvals` will attempt to set the values inplace instead of always setting a new array. To retain the old behavior, use either `df[df.columns[i]] = newvals` or, if columns are non-unique, `df.isetitem(i, newvals)`\n",
      "  df.loc[:, \"ds\"] = pd.to_datetime(df.loc[:, \"ds\"])\n",
      "\n",
      "WARNING - (py.warnings._showwarnmsg) - /home/codespace/.local/lib/python3.10/site-packages/neuralprophet/df_utils.py:1036: FutureWarning: In a future version, `df.iloc[:, i] = newvals` will attempt to set the values inplace instead of always setting a new array. To retain the old behavior, use either `df[df.columns[i]] = newvals` or, if columns are non-unique, `df.isetitem(i, newvals)`\n",
      "  df.loc[:, \"ds\"] = pd.to_datetime(df.loc[:, \"ds\"])\n",
      "\n",
      "WARNING - (py.warnings._showwarnmsg) - /home/codespace/.local/lib/python3.10/site-packages/neuralprophet/df_utils.py:1036: FutureWarning: In a future version, `df.iloc[:, i] = newvals` will attempt to set the values inplace instead of always setting a new array. To retain the old behavior, use either `df[df.columns[i]] = newvals` or, if columns are non-unique, `df.isetitem(i, newvals)`\n",
      "  df.loc[:, \"ds\"] = pd.to_datetime(df.loc[:, \"ds\"])\n",
      "\n",
      "WARNING - (py.warnings._showwarnmsg) - /home/codespace/.local/lib/python3.10/site-packages/neuralprophet/df_utils.py:193: FutureWarning: In a future version, `df.iloc[:, i] = newvals` will attempt to set the values inplace instead of always setting a new array. To retain the old behavior, use either `df[df.columns[i]] = newvals` or, if columns are non-unique, `df.isetitem(i, newvals)`\n",
      "  df.loc[:, \"ds\"] = pd.to_datetime(df.loc[:, \"ds\"])\n",
      "\n",
      "WARNING - (py.warnings._showwarnmsg) - /home/codespace/.local/lib/python3.10/site-packages/neuralprophet/df_utils.py:193: FutureWarning: In a future version, `df.iloc[:, i] = newvals` will attempt to set the values inplace instead of always setting a new array. To retain the old behavior, use either `df[df.columns[i]] = newvals` or, if columns are non-unique, `df.isetitem(i, newvals)`\n",
      "  df.loc[:, \"ds\"] = pd.to_datetime(df.loc[:, \"ds\"])\n",
      "\n"
     ]
    },
    {
     "data": {
      "application/vnd.jupyter.widget-view+json": {
       "model_id": "8a3f6837fdc14f32afdee5b040b83939",
       "version_major": 2,
       "version_minor": 0
      },
      "text/plain": [
       "  0%|          | 0/159 [00:00<?, ?it/s]"
      ]
     },
     "metadata": {},
     "output_type": "display_data"
    },
    {
     "name": "stderr",
     "output_type": "stream",
     "text": [
      "WARNING - (py.warnings._showwarnmsg) - /home/codespace/.local/lib/python3.10/site-packages/torch/nn/modules/loss.py:928: UserWarning: Using a target size (torch.Size([64, 12, 1])) that is different to the input size (torch.Size([64, 12, 3])). This will likely lead to incorrect results due to broadcasting. Please ensure they have the same size.\n",
      "  return F.smooth_l1_loss(input, target, reduction=self.reduction, beta=self.beta)\n",
      "\n",
      "WARNING - (py.warnings._showwarnmsg) - /home/codespace/.local/lib/python3.10/site-packages/torch/nn/modules/loss.py:928: UserWarning: Using a target size (torch.Size([318, 12, 1])) that is different to the input size (torch.Size([318, 12, 3])). This will likely lead to incorrect results due to broadcasting. Please ensure they have the same size.\n",
      "  return F.smooth_l1_loss(input, target, reduction=self.reduction, beta=self.beta)\n",
      "\n"
     ]
    },
    {
     "data": {
      "application/vnd.jupyter.widget-view+json": {
       "model_id": "e2f54ab6379f451aa75eaa505f9c80af",
       "version_major": 2,
       "version_minor": 0
      },
      "text/plain": [
       "  0%|          | 0/159 [00:00<?, ?it/s]"
      ]
     },
     "metadata": {},
     "output_type": "display_data"
    },
    {
     "name": "stderr",
     "output_type": "stream",
     "text": [
      "COMET INFO: ---------------------------                                                                                                                                              \n",
      "COMET INFO: Comet.ml Experiment Summary\n",
      "COMET INFO: ---------------------------\n",
      "COMET INFO:   Data:\n",
      "COMET INFO:     display_summary_level : 1\n",
      "COMET INFO:     url                   : https://www.comet.com/drdevinhopkins/verticaltbs-tweaking/327884fb392c44508238b86c15eeb970\n",
      "COMET INFO:   Metrics [count] (min, max):\n",
      "COMET INFO:     Loss             : 0.02227612510580997\n",
      "COMET INFO:     MAE              : 3.8905461365312823\n",
      "COMET INFO:     MAE_val          : 5.512061559354154\n",
      "COMET INFO:     RMSE             : 5.011751199849468\n",
      "COMET INFO:     RMSE_val         : 7.212138220144156\n",
      "COMET INFO:     RegLoss          : 0.0\n",
      "COMET INFO:     SmoothL1Loss     : 0.01608096466328005\n",
      "COMET INFO:     SmoothL1Loss_val : 0.03317162362983623\n",
      "COMET INFO:     loss [3083]      : (0.0153139503672719, 137.91041564941406)\n",
      "COMET INFO:   Parameters:\n",
      "COMET INFO:     changepoints_range : 0.95\n",
      "COMET INFO:     daily_seasonality  : True\n",
      "COMET INFO:     n_changepoints     : 50\n",
      "COMET INFO:     n_forecasts        : 12\n",
      "COMET INFO:     n_lags             : 2\n",
      "COMET INFO:     quantiles          : [0.2, 0.5, 0.8]\n",
      "COMET INFO:     weekly_seasonality : True\n",
      "COMET INFO:     yearly_seasonality : False\n",
      "COMET INFO:   Uploads:\n",
      "COMET INFO:     environment details : 1\n",
      "COMET INFO:     filename            : 1\n",
      "COMET INFO:     git metadata        : 1\n",
      "COMET INFO:     installed packages  : 1\n",
      "COMET INFO:     model graph         : 1\n",
      "COMET INFO:     notebook            : 1\n",
      "COMET INFO:     os packages         : 1\n",
      "COMET INFO:     source_code         : 1\n",
      "COMET INFO: ---------------------------\n"
     ]
    },
    {
     "name": "stdout",
     "output_type": "stream",
     "text": [
      "    SmoothL1Loss       MAE      RMSE      Loss  RegLoss  SmoothL1Loss_val  \\\n",
      "81      0.016081  3.890546  5.011751  0.022276      0.0          0.033172   \n",
      "\n",
      "     MAE_val  RMSE_val  \n",
      "81  5.512062  7.212138  \n"
     ]
    },
    {
     "name": "stderr",
     "output_type": "stream",
     "text": [
      "COMET ERROR: Error sending a notification, make sure you have opted-in for notifications\n",
      "COMET INFO: Uploading 1 metrics, params and output messages\n",
      "COMET WARNING: As you are running in a Jupyter environment, you will need to call `experiment.end()` when finished to ensure all metrics and code are logged before exiting.\n",
      "COMET INFO: Experiment is live on comet.com https://www.comet.com/drdevinhopkins/verticaltbs-tweaking/98bf778418044aa68651d55bf085ad4f\n",
      "\n",
      "WARNING - (py.warnings._showwarnmsg) - /home/codespace/.local/lib/python3.10/site-packages/neuralprophet/df_utils.py:1036: FutureWarning: In a future version, `df.iloc[:, i] = newvals` will attempt to set the values inplace instead of always setting a new array. To retain the old behavior, use either `df[df.columns[i]] = newvals` or, if columns are non-unique, `df.isetitem(i, newvals)`\n",
      "  df.loc[:, \"ds\"] = pd.to_datetime(df.loc[:, \"ds\"])\n",
      "\n",
      "WARNING - (py.warnings._showwarnmsg) - /home/codespace/.local/lib/python3.10/site-packages/neuralprophet/df_utils.py:1036: FutureWarning: In a future version, `df.iloc[:, i] = newvals` will attempt to set the values inplace instead of always setting a new array. To retain the old behavior, use either `df[df.columns[i]] = newvals` or, if columns are non-unique, `df.isetitem(i, newvals)`\n",
      "  df.loc[:, \"ds\"] = pd.to_datetime(df.loc[:, \"ds\"])\n",
      "\n",
      "WARNING - (py.warnings._showwarnmsg) - /home/codespace/.local/lib/python3.10/site-packages/neuralprophet/df_utils.py:1036: FutureWarning: In a future version, `df.iloc[:, i] = newvals` will attempt to set the values inplace instead of always setting a new array. To retain the old behavior, use either `df[df.columns[i]] = newvals` or, if columns are non-unique, `df.isetitem(i, newvals)`\n",
      "  df.loc[:, \"ds\"] = pd.to_datetime(df.loc[:, \"ds\"])\n",
      "\n",
      "WARNING - (py.warnings._showwarnmsg) - /home/codespace/.local/lib/python3.10/site-packages/neuralprophet/df_utils.py:193: FutureWarning: In a future version, `df.iloc[:, i] = newvals` will attempt to set the values inplace instead of always setting a new array. To retain the old behavior, use either `df[df.columns[i]] = newvals` or, if columns are non-unique, `df.isetitem(i, newvals)`\n",
      "  df.loc[:, \"ds\"] = pd.to_datetime(df.loc[:, \"ds\"])\n",
      "\n",
      "WARNING - (py.warnings._showwarnmsg) - /home/codespace/.local/lib/python3.10/site-packages/neuralprophet/df_utils.py:193: FutureWarning: In a future version, `df.iloc[:, i] = newvals` will attempt to set the values inplace instead of always setting a new array. To retain the old behavior, use either `df[df.columns[i]] = newvals` or, if columns are non-unique, `df.isetitem(i, newvals)`\n",
      "  df.loc[:, \"ds\"] = pd.to_datetime(df.loc[:, \"ds\"])\n",
      "\n"
     ]
    },
    {
     "data": {
      "application/vnd.jupyter.widget-view+json": {
       "model_id": "c20f317a08964b0e8e820f8762acaf3d",
       "version_major": 2,
       "version_minor": 0
      },
      "text/plain": [
       "  0%|          | 0/159 [00:00<?, ?it/s]"
      ]
     },
     "metadata": {},
     "output_type": "display_data"
    },
    {
     "name": "stderr",
     "output_type": "stream",
     "text": [
      "WARNING - (py.warnings._showwarnmsg) - /home/codespace/.local/lib/python3.10/site-packages/torch/nn/modules/loss.py:928: UserWarning: Using a target size (torch.Size([64, 12, 1])) that is different to the input size (torch.Size([64, 12, 3])). This will likely lead to incorrect results due to broadcasting. Please ensure they have the same size.\n",
      "  return F.smooth_l1_loss(input, target, reduction=self.reduction, beta=self.beta)\n",
      "\n",
      "WARNING - (py.warnings._showwarnmsg) - /home/codespace/.local/lib/python3.10/site-packages/torch/nn/modules/loss.py:928: UserWarning: Using a target size (torch.Size([318, 12, 1])) that is different to the input size (torch.Size([318, 12, 3])). This will likely lead to incorrect results due to broadcasting. Please ensure they have the same size.\n",
      "  return F.smooth_l1_loss(input, target, reduction=self.reduction, beta=self.beta)\n",
      "\n"
     ]
    },
    {
     "data": {
      "application/vnd.jupyter.widget-view+json": {
       "model_id": "41676b50ee1b4c8685eca09dac154c9b",
       "version_major": 2,
       "version_minor": 0
      },
      "text/plain": [
       "  0%|          | 0/159 [00:00<?, ?it/s]"
      ]
     },
     "metadata": {},
     "output_type": "display_data"
    },
    {
     "name": "stderr",
     "output_type": "stream",
     "text": [
      "Epoch[81/82]:  99%|█████████▉| 81/82 [06:01<00:04,  4.49s/it, SmoothL1Loss=0.0159, MAE=3.87, RMSE=4.99, Loss=0.0221, RegLoss=0, MAE_val=5.51, RMSE_val=7.21, SmoothL1Loss_val=0.0331]"
     ]
    }
   ],
   "source": [
    "from comet_ml import Experiment\n",
    "from comet_ml.api import API, APIExperiment\n",
    "import pandas as pd\n",
    "from neuralprophet import NeuralProphet, set_log_level, save, set_random_seed\n",
    "import pickle\n",
    "import os\n",
    "\n",
    "\n",
    "# api = API(os.environ.get('COMET_ML_API_KEY'))\n",
    "api = API('IbXp3DT5kVkFPKwnzhg3mgUTL')\n",
    "\n",
    "set_log_level(\"ERROR\")\n",
    "set_random_seed(221110)\n",
    "\n",
    "target_column = 'Total Vertical TBS'\n",
    "\n",
    "df = pd.read_csv(\n",
    "    'https://raw.githubusercontent.com/drdevinhopkins/hourly-report/main/data/since-2020.csv')\n",
    "df.ds = pd.to_datetime(df.ds)\n",
    "df = df.drop(['Date', 'Time'], axis=1)\n",
    "df = df.sort_values(by='ds', ascending=True)\n",
    "df.rename(columns={target_column: 'y', 'Adm. requests cum': \"Adm requests cum\",\n",
    "          'Pts.waiting for admission CUM': 'Pts waiting for admission CUM'}, inplace=True)\n",
    "df.dropna(inplace=True)\n",
    "regressors = df.columns.tolist()\n",
    "regressors.remove('y')\n",
    "regressors.remove('ds')\n",
    "\n",
    "for lag in [1,2,3,4,5,6,7,8,9,10,11,12]:\n",
    "\n",
    "    experiment = Experiment(\n",
    "    # api_key=os.environ.get('COMET_ML_API_KEY'),\n",
    "    api_key='IbXp3DT5kVkFPKwnzhg3mgUTL',\n",
    "    project_name=\"verticalTBS-tweaking\",\n",
    "    workspace=\"drdevinhopkins\",\n",
    ")\n",
    "\n",
    "    params = {\n",
    "        # growth='off',\n",
    "        'yearly_seasonality': False,\n",
    "        'weekly_seasonality': True,\n",
    "        'daily_seasonality': True,\n",
    "        'n_lags': lag,\n",
    "        'n_forecasts': 12,\n",
    "        'changepoints_range': 0.95,\n",
    "        'n_changepoints': 50,\n",
    "        'quantiles': [0.2, 0.5, 0.8]\n",
    "        # num_hidden_layers=4,\n",
    "        # d_hidden=36,\n",
    "        # learning_rate=0.005,\n",
    "    }\n",
    "\n",
    "    m = NeuralProphet(**params)\n",
    "    m = m.add_lagged_regressor(names=regressors)\n",
    "    m = m.add_country_holidays(\"CA\")\n",
    "    df_train, df_test = m.split_df(df, valid_p=0.05)\n",
    "\n",
    "    metrics = m.fit(df_train,\n",
    "                    freq='H',\n",
    "                    validation_df=df_test\n",
    "                    # progress='plot'\n",
    "                    )\n",
    "    print(metrics.tail(1))\n",
    "\n",
    "    experiment.log_parameters(params)\n",
    "    experiment.log_metrics(metrics.tail(1).iloc[0].to_dict())\n",
    "\n",
    "    experiment.end()\n"
   ]
  },
  {
   "cell_type": "code",
   "execution_count": null,
   "metadata": {},
   "outputs": [],
   "source": []
  }
 ],
 "metadata": {
  "kernelspec": {
   "display_name": "Python 3.10.4 64-bit",
   "language": "python",
   "name": "python3"
  },
  "language_info": {
   "codemirror_mode": {
    "name": "ipython",
    "version": 3
   },
   "file_extension": ".py",
   "mimetype": "text/x-python",
   "name": "python",
   "nbconvert_exporter": "python",
   "pygments_lexer": "ipython3",
   "version": "3.10.4"
  },
  "orig_nbformat": 4,
  "vscode": {
   "interpreter": {
    "hash": "3ad933181bd8a04b432d3370b9dc3b0662ad032c4dfaa4e4f1596c548f763858"
   }
  }
 },
 "nbformat": 4,
 "nbformat_minor": 2
}
