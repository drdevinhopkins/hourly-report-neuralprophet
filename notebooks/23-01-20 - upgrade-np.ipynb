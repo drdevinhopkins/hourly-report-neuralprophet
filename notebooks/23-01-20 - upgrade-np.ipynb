{
 "cells": [
  {
   "cell_type": "code",
   "execution_count": 18,
   "metadata": {},
   "outputs": [
    {
     "name": "stdout",
     "output_type": "stream",
     "text": [
      "Requirement already satisfied: neuralprophet in /Users/devinhopkins/anaconda3/envs/np2/lib/python3.8/site-packages (0.5.1)\n",
      "Requirement already satisfied: torch>=1.8.0 in /Users/devinhopkins/anaconda3/envs/np2/lib/python3.8/site-packages (from neuralprophet) (1.12.1)\n",
      "Requirement already satisfied: ipywidgets>=7.5.1 in /Users/devinhopkins/anaconda3/envs/np2/lib/python3.8/site-packages (from neuralprophet) (7.7.1)\n",
      "Requirement already satisfied: torchmetrics==0.9.3 in /Users/devinhopkins/anaconda3/envs/np2/lib/python3.8/site-packages (from neuralprophet) (0.9.3)\n",
      "Requirement already satisfied: LunarCalendar>=0.0.9 in /Users/devinhopkins/anaconda3/envs/np2/lib/python3.8/site-packages (from neuralprophet) (0.0.9)\n",
      "Requirement already satisfied: pandas>=1.0.4 in /Users/devinhopkins/anaconda3/envs/np2/lib/python3.8/site-packages (from neuralprophet) (1.4.3)\n",
      "Requirement already satisfied: pytorch-lightning==1.7.4 in /Users/devinhopkins/anaconda3/envs/np2/lib/python3.8/site-packages (from neuralprophet) (1.7.4)\n",
      "Requirement already satisfied: rich==12.4.4 in /Users/devinhopkins/anaconda3/envs/np2/lib/python3.8/site-packages (from neuralprophet) (12.4.4)\n",
      "Requirement already satisfied: plotly-resampler>=0.8.3 in /Users/devinhopkins/anaconda3/envs/np2/lib/python3.8/site-packages (from neuralprophet) (0.8.3)\n",
      "Requirement already satisfied: python-dateutil>=2.8.0 in /Users/devinhopkins/anaconda3/envs/np2/lib/python3.8/site-packages (from neuralprophet) (2.8.2)\n",
      "Requirement already satisfied: captum>=0.5.0 in /Users/devinhopkins/anaconda3/envs/np2/lib/python3.8/site-packages (from neuralprophet) (0.6.0)\n",
      "Requirement already satisfied: holidays>=0.11.3.1 in /Users/devinhopkins/anaconda3/envs/np2/lib/python3.8/site-packages (from neuralprophet) (0.14.2)\n",
      "Requirement already satisfied: matplotlib>=2.0.0 in /Users/devinhopkins/anaconda3/envs/np2/lib/python3.8/site-packages (from neuralprophet) (3.5.3)\n",
      "Requirement already satisfied: convertdate>=2.1.2 in /Users/devinhopkins/anaconda3/envs/np2/lib/python3.8/site-packages (from neuralprophet) (2.4.0)\n",
      "Requirement already satisfied: numpy<1.24.0,>=1.15.4 in /Users/devinhopkins/anaconda3/envs/np2/lib/python3.8/site-packages (from neuralprophet) (1.23.1)\n",
      "Requirement already satisfied: plotly>=4.14.3 in /Users/devinhopkins/anaconda3/envs/np2/lib/python3.8/site-packages (from neuralprophet) (5.11.0)\n",
      "Requirement already satisfied: typing-extensions>=4.0.0 in /Users/devinhopkins/anaconda3/envs/np2/lib/python3.8/site-packages (from pytorch-lightning==1.7.4->neuralprophet) (4.3.0)\n",
      "Requirement already satisfied: packaging>=17.0 in /Users/devinhopkins/anaconda3/envs/np2/lib/python3.8/site-packages (from pytorch-lightning==1.7.4->neuralprophet) (21.3)\n",
      "Requirement already satisfied: pyDeprecate>=0.3.1 in /Users/devinhopkins/anaconda3/envs/np2/lib/python3.8/site-packages (from pytorch-lightning==1.7.4->neuralprophet) (0.3.2)\n",
      "Requirement already satisfied: tensorboard>=2.9.1 in /Users/devinhopkins/anaconda3/envs/np2/lib/python3.8/site-packages (from pytorch-lightning==1.7.4->neuralprophet) (2.11.2)\n",
      "Requirement already satisfied: fsspec[http]!=2021.06.0,>=2021.05.0 in /Users/devinhopkins/anaconda3/envs/np2/lib/python3.8/site-packages (from pytorch-lightning==1.7.4->neuralprophet) (2023.1.0)\n",
      "Requirement already satisfied: PyYAML>=5.4 in /Users/devinhopkins/anaconda3/envs/np2/lib/python3.8/site-packages (from pytorch-lightning==1.7.4->neuralprophet) (6.0)\n",
      "Requirement already satisfied: tqdm>=4.57.0 in /Users/devinhopkins/anaconda3/envs/np2/lib/python3.8/site-packages (from pytorch-lightning==1.7.4->neuralprophet) (4.64.0)\n",
      "Requirement already satisfied: pygments<3.0.0,>=2.6.0 in /Users/devinhopkins/anaconda3/envs/np2/lib/python3.8/site-packages (from rich==12.4.4->neuralprophet) (2.12.0)\n",
      "Requirement already satisfied: commonmark<0.10.0,>=0.9.0 in /Users/devinhopkins/anaconda3/envs/np2/lib/python3.8/site-packages (from rich==12.4.4->neuralprophet) (0.9.1)\n",
      "Requirement already satisfied: pymeeus<=1,>=0.3.13 in /Users/devinhopkins/anaconda3/envs/np2/lib/python3.8/site-packages (from convertdate>=2.1.2->neuralprophet) (0.5.11)\n",
      "Requirement already satisfied: korean-lunar-calendar in /Users/devinhopkins/anaconda3/envs/np2/lib/python3.8/site-packages (from holidays>=0.11.3.1->neuralprophet) (0.2.1)\n",
      "Requirement already satisfied: hijri-converter in /Users/devinhopkins/anaconda3/envs/np2/lib/python3.8/site-packages (from holidays>=0.11.3.1->neuralprophet) (2.2.4)\n",
      "Requirement already satisfied: widgetsnbextension~=3.6.0 in /Users/devinhopkins/anaconda3/envs/np2/lib/python3.8/site-packages (from ipywidgets>=7.5.1->neuralprophet) (3.6.1)\n",
      "Requirement already satisfied: traitlets>=4.3.1 in /Users/devinhopkins/anaconda3/envs/np2/lib/python3.8/site-packages (from ipywidgets>=7.5.1->neuralprophet) (5.3.0)\n",
      "Requirement already satisfied: ipython>=4.0.0 in /Users/devinhopkins/anaconda3/envs/np2/lib/python3.8/site-packages (from ipywidgets>=7.5.1->neuralprophet) (8.4.0)\n",
      "Requirement already satisfied: jupyterlab-widgets>=1.0.0 in /Users/devinhopkins/anaconda3/envs/np2/lib/python3.8/site-packages (from ipywidgets>=7.5.1->neuralprophet) (1.1.1)\n",
      "Requirement already satisfied: ipykernel>=4.5.1 in /Users/devinhopkins/anaconda3/envs/np2/lib/python3.8/site-packages (from ipywidgets>=7.5.1->neuralprophet) (6.15.1)\n",
      "Requirement already satisfied: ipython-genutils~=0.2.0 in /Users/devinhopkins/anaconda3/envs/np2/lib/python3.8/site-packages (from ipywidgets>=7.5.1->neuralprophet) (0.2.0)\n",
      "Requirement already satisfied: ephem>=3.7.5.3 in /Users/devinhopkins/anaconda3/envs/np2/lib/python3.8/site-packages (from LunarCalendar>=0.0.9->neuralprophet) (4.1.3)\n",
      "Requirement already satisfied: pytz in /Users/devinhopkins/anaconda3/envs/np2/lib/python3.8/site-packages (from LunarCalendar>=0.0.9->neuralprophet) (2022.2.1)\n",
      "Requirement already satisfied: pillow>=6.2.0 in /Users/devinhopkins/anaconda3/envs/np2/lib/python3.8/site-packages (from matplotlib>=2.0.0->neuralprophet) (9.2.0)\n",
      "Requirement already satisfied: kiwisolver>=1.0.1 in /Users/devinhopkins/anaconda3/envs/np2/lib/python3.8/site-packages (from matplotlib>=2.0.0->neuralprophet) (1.4.4)\n",
      "Requirement already satisfied: cycler>=0.10 in /Users/devinhopkins/anaconda3/envs/np2/lib/python3.8/site-packages (from matplotlib>=2.0.0->neuralprophet) (0.11.0)\n",
      "Requirement already satisfied: fonttools>=4.22.0 in /Users/devinhopkins/anaconda3/envs/np2/lib/python3.8/site-packages (from matplotlib>=2.0.0->neuralprophet) (4.34.4)\n",
      "Requirement already satisfied: pyparsing>=2.2.1 in /Users/devinhopkins/anaconda3/envs/np2/lib/python3.8/site-packages (from matplotlib>=2.0.0->neuralprophet) (3.0.9)\n",
      "Requirement already satisfied: tenacity>=6.2.0 in /Users/devinhopkins/anaconda3/envs/np2/lib/python3.8/site-packages (from plotly>=4.14.3->neuralprophet) (8.1.0)\n",
      "Requirement already satisfied: Werkzeug<=2.1.2 in /Users/devinhopkins/anaconda3/envs/np2/lib/python3.8/site-packages (from plotly-resampler>=0.8.3->neuralprophet) (2.1.2)\n",
      "Requirement already satisfied: dash<3.0.0,>=2.2.0 in /Users/devinhopkins/anaconda3/envs/np2/lib/python3.8/site-packages (from plotly-resampler>=0.8.3->neuralprophet) (2.7.1)\n",
      "Requirement already satisfied: trace-updater>=0.0.8 in /Users/devinhopkins/anaconda3/envs/np2/lib/python3.8/site-packages (from plotly-resampler>=0.8.3->neuralprophet) (0.0.9)\n",
      "Requirement already satisfied: orjson<4.0.0,>=3.8.0 in /Users/devinhopkins/anaconda3/envs/np2/lib/python3.8/site-packages (from plotly-resampler>=0.8.3->neuralprophet) (3.8.5)\n",
      "Requirement already satisfied: jupyter-dash>=0.4.2 in /Users/devinhopkins/anaconda3/envs/np2/lib/python3.8/site-packages (from plotly-resampler>=0.8.3->neuralprophet) (0.4.2)\n",
      "Requirement already satisfied: Flask-Cors<4.0.0,>=3.0.10 in /Users/devinhopkins/anaconda3/envs/np2/lib/python3.8/site-packages (from plotly-resampler>=0.8.3->neuralprophet) (3.0.10)\n",
      "Requirement already satisfied: six>=1.5 in /Users/devinhopkins/anaconda3/envs/np2/lib/python3.8/site-packages (from python-dateutil>=2.8.0->neuralprophet) (1.16.0)\n",
      "Requirement already satisfied: Flask>=1.0.4 in /Users/devinhopkins/anaconda3/envs/np2/lib/python3.8/site-packages (from dash<3.0.0,>=2.2.0->plotly-resampler>=0.8.3->neuralprophet) (2.1.3)\n",
      "Requirement already satisfied: dash-html-components==2.0.0 in /Users/devinhopkins/anaconda3/envs/np2/lib/python3.8/site-packages (from dash<3.0.0,>=2.2.0->plotly-resampler>=0.8.3->neuralprophet) (2.0.0)\n",
      "Requirement already satisfied: dash-table==5.0.0 in /Users/devinhopkins/anaconda3/envs/np2/lib/python3.8/site-packages (from dash<3.0.0,>=2.2.0->plotly-resampler>=0.8.3->neuralprophet) (5.0.0)\n",
      "Requirement already satisfied: dash-core-components==2.0.0 in /Users/devinhopkins/anaconda3/envs/np2/lib/python3.8/site-packages (from dash<3.0.0,>=2.2.0->plotly-resampler>=0.8.3->neuralprophet) (2.0.0)\n",
      "Requirement already satisfied: requests in /Users/devinhopkins/anaconda3/envs/np2/lib/python3.8/site-packages (from fsspec[http]!=2021.06.0,>=2021.05.0->pytorch-lightning==1.7.4->neuralprophet) (2.28.1)\n",
      "Requirement already satisfied: aiohttp!=4.0.0a0,!=4.0.0a1 in /Users/devinhopkins/anaconda3/envs/np2/lib/python3.8/site-packages (from fsspec[http]!=2021.06.0,>=2021.05.0->pytorch-lightning==1.7.4->neuralprophet) (3.8.3)\n",
      "Requirement already satisfied: matplotlib-inline>=0.1 in /Users/devinhopkins/anaconda3/envs/np2/lib/python3.8/site-packages (from ipykernel>=4.5.1->ipywidgets>=7.5.1->neuralprophet) (0.1.3)\n",
      "Requirement already satisfied: appnope in /Users/devinhopkins/anaconda3/envs/np2/lib/python3.8/site-packages (from ipykernel>=4.5.1->ipywidgets>=7.5.1->neuralprophet) (0.1.3)\n",
      "Requirement already satisfied: nest-asyncio in /Users/devinhopkins/anaconda3/envs/np2/lib/python3.8/site-packages (from ipykernel>=4.5.1->ipywidgets>=7.5.1->neuralprophet) (1.5.5)\n",
      "Requirement already satisfied: psutil in /Users/devinhopkins/anaconda3/envs/np2/lib/python3.8/site-packages (from ipykernel>=4.5.1->ipywidgets>=7.5.1->neuralprophet) (5.9.1)\n",
      "Requirement already satisfied: jupyter-client>=6.1.12 in /Users/devinhopkins/anaconda3/envs/np2/lib/python3.8/site-packages (from ipykernel>=4.5.1->ipywidgets>=7.5.1->neuralprophet) (7.3.4)\n",
      "Requirement already satisfied: tornado>=6.1 in /Users/devinhopkins/anaconda3/envs/np2/lib/python3.8/site-packages (from ipykernel>=4.5.1->ipywidgets>=7.5.1->neuralprophet) (6.2)\n",
      "Requirement already satisfied: debugpy>=1.0 in /Users/devinhopkins/anaconda3/envs/np2/lib/python3.8/site-packages (from ipykernel>=4.5.1->ipywidgets>=7.5.1->neuralprophet) (1.6.2)\n",
      "Requirement already satisfied: pyzmq>=17 in /Users/devinhopkins/anaconda3/envs/np2/lib/python3.8/site-packages (from ipykernel>=4.5.1->ipywidgets>=7.5.1->neuralprophet) (23.2.1)\n",
      "Requirement already satisfied: jedi>=0.16 in /Users/devinhopkins/anaconda3/envs/np2/lib/python3.8/site-packages (from ipython>=4.0.0->ipywidgets>=7.5.1->neuralprophet) (0.18.1)\n",
      "Requirement already satisfied: pexpect>4.3 in /Users/devinhopkins/anaconda3/envs/np2/lib/python3.8/site-packages (from ipython>=4.0.0->ipywidgets>=7.5.1->neuralprophet) (4.8.0)\n",
      "Requirement already satisfied: prompt-toolkit!=3.0.0,!=3.0.1,<3.1.0,>=2.0.0 in /Users/devinhopkins/anaconda3/envs/np2/lib/python3.8/site-packages (from ipython>=4.0.0->ipywidgets>=7.5.1->neuralprophet) (3.0.30)\n",
      "Requirement already satisfied: backcall in /Users/devinhopkins/anaconda3/envs/np2/lib/python3.8/site-packages (from ipython>=4.0.0->ipywidgets>=7.5.1->neuralprophet) (0.2.0)\n",
      "Requirement already satisfied: pickleshare in /Users/devinhopkins/anaconda3/envs/np2/lib/python3.8/site-packages (from ipython>=4.0.0->ipywidgets>=7.5.1->neuralprophet) (0.7.5)\n",
      "Requirement already satisfied: decorator in /Users/devinhopkins/anaconda3/envs/np2/lib/python3.8/site-packages (from ipython>=4.0.0->ipywidgets>=7.5.1->neuralprophet) (5.1.1)\n",
      "Requirement already satisfied: setuptools>=18.5 in /Users/devinhopkins/anaconda3/envs/np2/lib/python3.8/site-packages (from ipython>=4.0.0->ipywidgets>=7.5.1->neuralprophet) (61.2.0)\n",
      "Requirement already satisfied: stack-data in /Users/devinhopkins/anaconda3/envs/np2/lib/python3.8/site-packages (from ipython>=4.0.0->ipywidgets>=7.5.1->neuralprophet) (0.3.0)\n",
      "Requirement already satisfied: retrying in /Users/devinhopkins/anaconda3/envs/np2/lib/python3.8/site-packages (from jupyter-dash>=0.4.2->plotly-resampler>=0.8.3->neuralprophet) (1.3.4)\n",
      "Requirement already satisfied: ansi2html in /Users/devinhopkins/anaconda3/envs/np2/lib/python3.8/site-packages (from jupyter-dash>=0.4.2->plotly-resampler>=0.8.3->neuralprophet) (1.8.0)\n",
      "Requirement already satisfied: google-auth-oauthlib<0.5,>=0.4.1 in /Users/devinhopkins/anaconda3/envs/np2/lib/python3.8/site-packages (from tensorboard>=2.9.1->pytorch-lightning==1.7.4->neuralprophet) (0.4.6)\n",
      "Requirement already satisfied: markdown>=2.6.8 in /Users/devinhopkins/anaconda3/envs/np2/lib/python3.8/site-packages (from tensorboard>=2.9.1->pytorch-lightning==1.7.4->neuralprophet) (3.4.1)\n",
      "Requirement already satisfied: protobuf<4,>=3.9.2 in /Users/devinhopkins/anaconda3/envs/np2/lib/python3.8/site-packages (from tensorboard>=2.9.1->pytorch-lightning==1.7.4->neuralprophet) (3.20.3)\n",
      "Requirement already satisfied: absl-py>=0.4 in /Users/devinhopkins/anaconda3/envs/np2/lib/python3.8/site-packages (from tensorboard>=2.9.1->pytorch-lightning==1.7.4->neuralprophet) (1.4.0)\n",
      "Requirement already satisfied: tensorboard-data-server<0.7.0,>=0.6.0 in /Users/devinhopkins/anaconda3/envs/np2/lib/python3.8/site-packages (from tensorboard>=2.9.1->pytorch-lightning==1.7.4->neuralprophet) (0.6.1)\n",
      "Requirement already satisfied: google-auth<3,>=1.6.3 in /Users/devinhopkins/anaconda3/envs/np2/lib/python3.8/site-packages (from tensorboard>=2.9.1->pytorch-lightning==1.7.4->neuralprophet) (2.16.0)\n",
      "Requirement already satisfied: wheel>=0.26 in /Users/devinhopkins/anaconda3/envs/np2/lib/python3.8/site-packages (from tensorboard>=2.9.1->pytorch-lightning==1.7.4->neuralprophet) (0.37.1)\n",
      "Requirement already satisfied: grpcio>=1.24.3 in /Users/devinhopkins/anaconda3/envs/np2/lib/python3.8/site-packages (from tensorboard>=2.9.1->pytorch-lightning==1.7.4->neuralprophet) (1.51.1)\n",
      "Requirement already satisfied: tensorboard-plugin-wit>=1.6.0 in /Users/devinhopkins/anaconda3/envs/np2/lib/python3.8/site-packages (from tensorboard>=2.9.1->pytorch-lightning==1.7.4->neuralprophet) (1.8.1)\n",
      "Requirement already satisfied: notebook>=4.4.1 in /Users/devinhopkins/anaconda3/envs/np2/lib/python3.8/site-packages (from widgetsnbextension~=3.6.0->ipywidgets>=7.5.1->neuralprophet) (6.4.12)\n",
      "Requirement already satisfied: aiosignal>=1.1.2 in /Users/devinhopkins/anaconda3/envs/np2/lib/python3.8/site-packages (from aiohttp!=4.0.0a0,!=4.0.0a1->fsspec[http]!=2021.06.0,>=2021.05.0->pytorch-lightning==1.7.4->neuralprophet) (1.3.1)\n",
      "Requirement already satisfied: frozenlist>=1.1.1 in /Users/devinhopkins/anaconda3/envs/np2/lib/python3.8/site-packages (from aiohttp!=4.0.0a0,!=4.0.0a1->fsspec[http]!=2021.06.0,>=2021.05.0->pytorch-lightning==1.7.4->neuralprophet) (1.3.3)\n",
      "Requirement already satisfied: charset-normalizer<3.0,>=2.0 in /Users/devinhopkins/anaconda3/envs/np2/lib/python3.8/site-packages (from aiohttp!=4.0.0a0,!=4.0.0a1->fsspec[http]!=2021.06.0,>=2021.05.0->pytorch-lightning==1.7.4->neuralprophet) (2.1.1)\n",
      "Requirement already satisfied: attrs>=17.3.0 in /Users/devinhopkins/anaconda3/envs/np2/lib/python3.8/site-packages (from aiohttp!=4.0.0a0,!=4.0.0a1->fsspec[http]!=2021.06.0,>=2021.05.0->pytorch-lightning==1.7.4->neuralprophet) (22.1.0)\n",
      "Requirement already satisfied: yarl<2.0,>=1.0 in /Users/devinhopkins/anaconda3/envs/np2/lib/python3.8/site-packages (from aiohttp!=4.0.0a0,!=4.0.0a1->fsspec[http]!=2021.06.0,>=2021.05.0->pytorch-lightning==1.7.4->neuralprophet) (1.8.2)\n",
      "Requirement already satisfied: async-timeout<5.0,>=4.0.0a3 in /Users/devinhopkins/anaconda3/envs/np2/lib/python3.8/site-packages (from aiohttp!=4.0.0a0,!=4.0.0a1->fsspec[http]!=2021.06.0,>=2021.05.0->pytorch-lightning==1.7.4->neuralprophet) (4.0.2)\n",
      "Requirement already satisfied: multidict<7.0,>=4.5 in /Users/devinhopkins/anaconda3/envs/np2/lib/python3.8/site-packages (from aiohttp!=4.0.0a0,!=4.0.0a1->fsspec[http]!=2021.06.0,>=2021.05.0->pytorch-lightning==1.7.4->neuralprophet) (6.0.4)\n",
      "Requirement already satisfied: importlib-metadata>=3.6.0 in /Users/devinhopkins/anaconda3/envs/np2/lib/python3.8/site-packages (from Flask>=1.0.4->dash<3.0.0,>=2.2.0->plotly-resampler>=0.8.3->neuralprophet) (5.0.0)\n",
      "Requirement already satisfied: Jinja2>=3.0 in /Users/devinhopkins/anaconda3/envs/np2/lib/python3.8/site-packages (from Flask>=1.0.4->dash<3.0.0,>=2.2.0->plotly-resampler>=0.8.3->neuralprophet) (3.1.2)\n",
      "Requirement already satisfied: itsdangerous>=2.0 in /Users/devinhopkins/anaconda3/envs/np2/lib/python3.8/site-packages (from Flask>=1.0.4->dash<3.0.0,>=2.2.0->plotly-resampler>=0.8.3->neuralprophet) (2.1.2)\n",
      "Requirement already satisfied: click>=8.0 in /Users/devinhopkins/anaconda3/envs/np2/lib/python3.8/site-packages (from Flask>=1.0.4->dash<3.0.0,>=2.2.0->plotly-resampler>=0.8.3->neuralprophet) (8.1.3)\n",
      "Requirement already satisfied: pyasn1-modules>=0.2.1 in /Users/devinhopkins/anaconda3/envs/np2/lib/python3.8/site-packages (from google-auth<3,>=1.6.3->tensorboard>=2.9.1->pytorch-lightning==1.7.4->neuralprophet) (0.2.8)\n",
      "Requirement already satisfied: cachetools<6.0,>=2.0.0 in /Users/devinhopkins/anaconda3/envs/np2/lib/python3.8/site-packages (from google-auth<3,>=1.6.3->tensorboard>=2.9.1->pytorch-lightning==1.7.4->neuralprophet) (5.2.0)\n",
      "Requirement already satisfied: rsa<5,>=3.1.4 in /Users/devinhopkins/anaconda3/envs/np2/lib/python3.8/site-packages (from google-auth<3,>=1.6.3->tensorboard>=2.9.1->pytorch-lightning==1.7.4->neuralprophet) (4.9)\n",
      "Requirement already satisfied: requests-oauthlib>=0.7.0 in /Users/devinhopkins/anaconda3/envs/np2/lib/python3.8/site-packages (from google-auth-oauthlib<0.5,>=0.4.1->tensorboard>=2.9.1->pytorch-lightning==1.7.4->neuralprophet) (1.3.1)\n",
      "Requirement already satisfied: parso<0.9.0,>=0.8.0 in /Users/devinhopkins/anaconda3/envs/np2/lib/python3.8/site-packages (from jedi>=0.16->ipython>=4.0.0->ipywidgets>=7.5.1->neuralprophet) (0.8.3)\n",
      "Requirement already satisfied: jupyter-core>=4.9.2 in /Users/devinhopkins/anaconda3/envs/np2/lib/python3.8/site-packages (from jupyter-client>=6.1.12->ipykernel>=4.5.1->ipywidgets>=7.5.1->neuralprophet) (4.11.1)\n",
      "Requirement already satisfied: entrypoints in /Users/devinhopkins/anaconda3/envs/np2/lib/python3.8/site-packages (from jupyter-client>=6.1.12->ipykernel>=4.5.1->ipywidgets>=7.5.1->neuralprophet) (0.4)\n",
      "Requirement already satisfied: prometheus-client in /Users/devinhopkins/anaconda3/envs/np2/lib/python3.8/site-packages (from notebook>=4.4.1->widgetsnbextension~=3.6.0->ipywidgets>=7.5.1->neuralprophet) (0.14.1)\n",
      "Requirement already satisfied: terminado>=0.8.3 in /Users/devinhopkins/anaconda3/envs/np2/lib/python3.8/site-packages (from notebook>=4.4.1->widgetsnbextension~=3.6.0->ipywidgets>=7.5.1->neuralprophet) (0.15.0)\n",
      "Requirement already satisfied: Send2Trash>=1.8.0 in /Users/devinhopkins/anaconda3/envs/np2/lib/python3.8/site-packages (from notebook>=4.4.1->widgetsnbextension~=3.6.0->ipywidgets>=7.5.1->neuralprophet) (1.8.0)\n",
      "Requirement already satisfied: nbconvert>=5 in /Users/devinhopkins/anaconda3/envs/np2/lib/python3.8/site-packages (from notebook>=4.4.1->widgetsnbextension~=3.6.0->ipywidgets>=7.5.1->neuralprophet) (6.5.3)\n",
      "Requirement already satisfied: nbformat in /Users/devinhopkins/anaconda3/envs/np2/lib/python3.8/site-packages (from notebook>=4.4.1->widgetsnbextension~=3.6.0->ipywidgets>=7.5.1->neuralprophet) (5.4.0)\n",
      "Requirement already satisfied: argon2-cffi in /Users/devinhopkins/anaconda3/envs/np2/lib/python3.8/site-packages (from notebook>=4.4.1->widgetsnbextension~=3.6.0->ipywidgets>=7.5.1->neuralprophet) (21.3.0)\n",
      "Requirement already satisfied: ptyprocess>=0.5 in /Users/devinhopkins/anaconda3/envs/np2/lib/python3.8/site-packages (from pexpect>4.3->ipython>=4.0.0->ipywidgets>=7.5.1->neuralprophet) (0.7.0)\n",
      "Requirement already satisfied: wcwidth in /Users/devinhopkins/anaconda3/envs/np2/lib/python3.8/site-packages (from prompt-toolkit!=3.0.0,!=3.0.1,<3.1.0,>=2.0.0->ipython>=4.0.0->ipywidgets>=7.5.1->neuralprophet) (0.2.5)\n",
      "Requirement already satisfied: idna<4,>=2.5 in /Users/devinhopkins/anaconda3/envs/np2/lib/python3.8/site-packages (from requests->fsspec[http]!=2021.06.0,>=2021.05.0->pytorch-lightning==1.7.4->neuralprophet) (3.4)\n",
      "Requirement already satisfied: urllib3<1.27,>=1.21.1 in /Users/devinhopkins/anaconda3/envs/np2/lib/python3.8/site-packages (from requests->fsspec[http]!=2021.06.0,>=2021.05.0->pytorch-lightning==1.7.4->neuralprophet) (1.26.12)\n",
      "Requirement already satisfied: certifi>=2017.4.17 in /Users/devinhopkins/anaconda3/envs/np2/lib/python3.8/site-packages (from requests->fsspec[http]!=2021.06.0,>=2021.05.0->pytorch-lightning==1.7.4->neuralprophet) (2022.6.15)\n",
      "Requirement already satisfied: asttokens in /Users/devinhopkins/anaconda3/envs/np2/lib/python3.8/site-packages (from stack-data->ipython>=4.0.0->ipywidgets>=7.5.1->neuralprophet) (2.0.7)\n",
      "Requirement already satisfied: executing in /Users/devinhopkins/anaconda3/envs/np2/lib/python3.8/site-packages (from stack-data->ipython>=4.0.0->ipywidgets>=7.5.1->neuralprophet) (0.9.1)\n",
      "Requirement already satisfied: pure-eval in /Users/devinhopkins/anaconda3/envs/np2/lib/python3.8/site-packages (from stack-data->ipython>=4.0.0->ipywidgets>=7.5.1->neuralprophet) (0.2.2)\n",
      "Requirement already satisfied: zipp>=0.5 in /Users/devinhopkins/anaconda3/envs/np2/lib/python3.8/site-packages (from importlib-metadata>=3.6.0->Flask>=1.0.4->dash<3.0.0,>=2.2.0->plotly-resampler>=0.8.3->neuralprophet) (3.8.1)\n",
      "Requirement already satisfied: MarkupSafe>=2.0 in /Users/devinhopkins/anaconda3/envs/np2/lib/python3.8/site-packages (from Jinja2>=3.0->Flask>=1.0.4->dash<3.0.0,>=2.2.0->plotly-resampler>=0.8.3->neuralprophet) (2.1.1)\n",
      "Requirement already satisfied: jupyterlab-pygments in /Users/devinhopkins/anaconda3/envs/np2/lib/python3.8/site-packages (from nbconvert>=5->notebook>=4.4.1->widgetsnbextension~=3.6.0->ipywidgets>=7.5.1->neuralprophet) (0.2.2)\n",
      "Requirement already satisfied: bleach in /Users/devinhopkins/anaconda3/envs/np2/lib/python3.8/site-packages (from nbconvert>=5->notebook>=4.4.1->widgetsnbextension~=3.6.0->ipywidgets>=7.5.1->neuralprophet) (5.0.1)\n",
      "Requirement already satisfied: defusedxml in /Users/devinhopkins/anaconda3/envs/np2/lib/python3.8/site-packages (from nbconvert>=5->notebook>=4.4.1->widgetsnbextension~=3.6.0->ipywidgets>=7.5.1->neuralprophet) (0.7.1)\n",
      "Requirement already satisfied: mistune<2,>=0.8.1 in /Users/devinhopkins/anaconda3/envs/np2/lib/python3.8/site-packages (from nbconvert>=5->notebook>=4.4.1->widgetsnbextension~=3.6.0->ipywidgets>=7.5.1->neuralprophet) (0.8.4)\n",
      "Requirement already satisfied: beautifulsoup4 in /Users/devinhopkins/anaconda3/envs/np2/lib/python3.8/site-packages (from nbconvert>=5->notebook>=4.4.1->widgetsnbextension~=3.6.0->ipywidgets>=7.5.1->neuralprophet) (4.11.1)\n",
      "Requirement already satisfied: lxml in /Users/devinhopkins/anaconda3/envs/np2/lib/python3.8/site-packages (from nbconvert>=5->notebook>=4.4.1->widgetsnbextension~=3.6.0->ipywidgets>=7.5.1->neuralprophet) (4.9.1)\n",
      "Requirement already satisfied: tinycss2 in /Users/devinhopkins/anaconda3/envs/np2/lib/python3.8/site-packages (from nbconvert>=5->notebook>=4.4.1->widgetsnbextension~=3.6.0->ipywidgets>=7.5.1->neuralprophet) (1.1.1)\n",
      "Requirement already satisfied: nbclient>=0.5.0 in /Users/devinhopkins/anaconda3/envs/np2/lib/python3.8/site-packages (from nbconvert>=5->notebook>=4.4.1->widgetsnbextension~=3.6.0->ipywidgets>=7.5.1->neuralprophet) (0.6.6)\n",
      "Requirement already satisfied: pandocfilters>=1.4.1 in /Users/devinhopkins/anaconda3/envs/np2/lib/python3.8/site-packages (from nbconvert>=5->notebook>=4.4.1->widgetsnbextension~=3.6.0->ipywidgets>=7.5.1->neuralprophet) (1.5.0)\n",
      "Requirement already satisfied: jsonschema>=2.6 in /Users/devinhopkins/anaconda3/envs/np2/lib/python3.8/site-packages (from nbformat->notebook>=4.4.1->widgetsnbextension~=3.6.0->ipywidgets>=7.5.1->neuralprophet) (4.9.1)\n",
      "Requirement already satisfied: fastjsonschema in /Users/devinhopkins/anaconda3/envs/np2/lib/python3.8/site-packages (from nbformat->notebook>=4.4.1->widgetsnbextension~=3.6.0->ipywidgets>=7.5.1->neuralprophet) (2.16.1)\n",
      "Requirement already satisfied: pyasn1<0.5.0,>=0.4.6 in /Users/devinhopkins/anaconda3/envs/np2/lib/python3.8/site-packages (from pyasn1-modules>=0.2.1->google-auth<3,>=1.6.3->tensorboard>=2.9.1->pytorch-lightning==1.7.4->neuralprophet) (0.4.8)\n",
      "Requirement already satisfied: oauthlib>=3.0.0 in /Users/devinhopkins/anaconda3/envs/np2/lib/python3.8/site-packages (from requests-oauthlib>=0.7.0->google-auth-oauthlib<0.5,>=0.4.1->tensorboard>=2.9.1->pytorch-lightning==1.7.4->neuralprophet) (3.2.2)\n",
      "Requirement already satisfied: argon2-cffi-bindings in /Users/devinhopkins/anaconda3/envs/np2/lib/python3.8/site-packages (from argon2-cffi->notebook>=4.4.1->widgetsnbextension~=3.6.0->ipywidgets>=7.5.1->neuralprophet) (21.2.0)\n",
      "Requirement already satisfied: importlib-resources>=1.4.0 in /Users/devinhopkins/anaconda3/envs/np2/lib/python3.8/site-packages (from jsonschema>=2.6->nbformat->notebook>=4.4.1->widgetsnbextension~=3.6.0->ipywidgets>=7.5.1->neuralprophet) (5.9.0)\n",
      "Requirement already satisfied: pkgutil-resolve-name>=1.3.10 in /Users/devinhopkins/anaconda3/envs/np2/lib/python3.8/site-packages (from jsonschema>=2.6->nbformat->notebook>=4.4.1->widgetsnbextension~=3.6.0->ipywidgets>=7.5.1->neuralprophet) (1.3.10)\n",
      "Requirement already satisfied: pyrsistent!=0.17.0,!=0.17.1,!=0.17.2,>=0.14.0 in /Users/devinhopkins/anaconda3/envs/np2/lib/python3.8/site-packages (from jsonschema>=2.6->nbformat->notebook>=4.4.1->widgetsnbextension~=3.6.0->ipywidgets>=7.5.1->neuralprophet) (0.18.1)\n",
      "Requirement already satisfied: cffi>=1.0.1 in /Users/devinhopkins/anaconda3/envs/np2/lib/python3.8/site-packages (from argon2-cffi-bindings->argon2-cffi->notebook>=4.4.1->widgetsnbextension~=3.6.0->ipywidgets>=7.5.1->neuralprophet) (1.15.1)\n",
      "Requirement already satisfied: soupsieve>1.2 in /Users/devinhopkins/anaconda3/envs/np2/lib/python3.8/site-packages (from beautifulsoup4->nbconvert>=5->notebook>=4.4.1->widgetsnbextension~=3.6.0->ipywidgets>=7.5.1->neuralprophet) (2.3.2.post1)\n",
      "Requirement already satisfied: webencodings in /Users/devinhopkins/anaconda3/envs/np2/lib/python3.8/site-packages (from bleach->nbconvert>=5->notebook>=4.4.1->widgetsnbextension~=3.6.0->ipywidgets>=7.5.1->neuralprophet) (0.5.1)\n",
      "Requirement already satisfied: pycparser in /Users/devinhopkins/anaconda3/envs/np2/lib/python3.8/site-packages (from cffi>=1.0.1->argon2-cffi-bindings->argon2-cffi->notebook>=4.4.1->widgetsnbextension~=3.6.0->ipywidgets>=7.5.1->neuralprophet) (2.21)\n"
     ]
    }
   ],
   "source": [
    "# !pip install neuralprophet --upgrade\n",
    "# !pip install python-dotenv"
   ]
  },
  {
   "cell_type": "code",
   "execution_count": 15,
   "metadata": {},
   "outputs": [],
   "source": [
    "from comet_ml import Experiment\n",
    "from comet_ml.api import API, APIExperiment\n",
    "import pandas as pd\n",
    "from neuralprophet import NeuralProphet, set_log_level, save, load\n",
    "import pickle\n",
    "import os\n",
    "from dotenv import load_dotenv\n"
   ]
  },
  {
   "cell_type": "code",
   "execution_count": 9,
   "metadata": {},
   "outputs": [
    {
     "name": "stderr",
     "output_type": "stream",
     "text": [
      "COMET WARNING: As you are running in a Jupyter environment, you will need to call `experiment.end()` when finished to ensure all metrics and code are logged before exiting.\n",
      "COMET INFO: Experiment is live on comet.com https://www.comet.com/drdevinhopkins/daily-visits/da40b4f108b649dea951fb9ccbddfad9\n",
      "\n"
     ]
    }
   ],
   "source": [
    "\n",
    "\n",
    "load_dotenv()\n",
    "\n",
    "COMET_ML_API_KEY = os.getenv('COMET_ML_API_KEY')\n",
    "experiment = Experiment(\n",
    "    # api_key=os.environ.get('COMET_ML_API_KEY'),\n",
    "    api_key=COMET_ML_API_KEY,\n",
    "    project_name=\"daily-visits\",\n",
    "    workspace=\"drdevinhopkins\",\n",
    ")\n",
    "api = API(os.environ.get('COMET_ML_API_KEY'))\n"
   ]
  },
  {
   "cell_type": "code",
   "execution_count": 10,
   "metadata": {},
   "outputs": [],
   "source": [
    "\n",
    "set_log_level(\"ERROR\")\n",
    "\n",
    "df = pd.read_csv(\n",
    "    'https://raw.githubusercontent.com/drdevinhopkins/hourly-report/main/data/daily-visits.csv')\n",
    "df.ds = pd.to_datetime(df.ds)\n",
    "df = df.sort_values(by='ds')\n"
   ]
  },
  {
   "cell_type": "code",
   "execution_count": 11,
   "metadata": {},
   "outputs": [
    {
     "data": {
      "application/vnd.jupyter.widget-view+json": {
       "model_id": "3fe70d1bfa30466f91ffffc20d716940",
       "version_major": 2,
       "version_minor": 0
      },
      "text/plain": [
       "Finding best initial lr:   0%|          | 0/240 [00:00<?, ?it/s]"
      ]
     },
     "metadata": {},
     "output_type": "display_data"
    },
    {
     "name": "stderr",
     "output_type": "stream",
     "text": [
      "Missing logger folder: /Users/devinhopkins/Dropbox/Code/hourly-report-neuralprophet/notebooks/lightning_logs\n"
     ]
    },
    {
     "data": {
      "application/vnd.jupyter.widget-view+json": {
       "model_id": "6d6808e24fcb4a9fbd9d71a7fa0aaa5c",
       "version_major": 2,
       "version_minor": 0
      },
      "text/plain": [
       "Training: 0it [00:00, ?it/s]"
      ]
     },
     "metadata": {},
     "output_type": "display_data"
    },
    {
     "name": "stdout",
     "output_type": "stream",
     "text": [
      "           MAE      RMSE      Loss  RegLoss  epoch\n",
      "130  14.061237  18.20447  0.005401      0.0    130\n"
     ]
    }
   ],
   "source": [
    "\n",
    "params = {\n",
    "    # growth='off',\n",
    "    # 'yearly_seasonality':False,\n",
    "    # 'weekly_seasonality':True,\n",
    "    # 'daily_seasonality':True,\n",
    "    'n_lags': 4,\n",
    "    'n_forecasts': 12,\n",
    "    'changepoints_range': 0.95,\n",
    "    'n_changepoints': 50,\n",
    "    'quantiles': [0.2, 0.5, 0.8]\n",
    "    # num_hidden_layers=4,\n",
    "    # d_hidden=36,\n",
    "    # learning_rate=0.005,\n",
    "}\n",
    "\n",
    "m = NeuralProphet(**params)\n",
    "\n",
    "m = m.add_country_holidays(\"CA\")\n",
    "\n",
    "metrics = m.fit(df,\n",
    "                freq='D',\n",
    "                # progress='plot'\n",
    "                )\n",
    "print(metrics.tail(1))\n"
   ]
  },
  {
   "cell_type": "code",
   "execution_count": 14,
   "metadata": {},
   "outputs": [
    {
     "name": "stderr",
     "output_type": "stream",
     "text": [
      "COMET INFO: ---------------------------\n",
      "COMET INFO: Comet.ml Experiment Summary\n",
      "COMET INFO: ---------------------------\n",
      "COMET INFO:   Data:\n",
      "COMET INFO:     display_summary_level : 1\n",
      "COMET INFO:     url                   : https://www.comet.com/drdevinhopkins/daily-visits/da40b4f108b649dea951fb9ccbddfad9\n",
      "COMET INFO:   Metrics [count] (min, max):\n",
      "COMET INFO:     Loss [134]  : (0.005400646943598986, 2.078678846359253)\n",
      "COMET INFO:     MAE [134]   : (14.061237335205078, 322.8252258300781)\n",
      "COMET INFO:     RMSE [134]  : (18.197662353515625, 377.7602844238281)\n",
      "COMET INFO:     RegLoss     : 0.0\n",
      "COMET INFO:     epoch [134] : (0, 130)\n",
      "COMET INFO:     hp_metric   : -1\n",
      "COMET INFO:     loss [1622] : (0.0036984067410230637, 2.415658712387085)\n",
      "COMET INFO:   Parameters:\n",
      "COMET INFO:     changepoints_range : 0.95\n",
      "COMET INFO:     n_changepoints     : 50\n",
      "COMET INFO:     n_forecasts        : 12\n",
      "COMET INFO:     n_lags             : 4\n",
      "COMET INFO:     quantiles          : [0.2, 0.5, 0.8]\n",
      "COMET INFO:   Uploads:\n",
      "COMET INFO:     conda-environment-definition : 1\n",
      "COMET INFO:     conda-info                   : 1\n",
      "COMET INFO:     conda-specification          : 1\n",
      "COMET INFO:     environment details          : 1\n",
      "COMET INFO:     filename                     : 1\n",
      "COMET INFO:     git metadata                 : 1\n",
      "COMET INFO:     installed packages           : 1\n",
      "COMET INFO:     model graph                  : 1\n",
      "COMET INFO:     model-element                : 2 (16.48 MB)\n",
      "COMET INFO:     notebook                     : 1\n",
      "COMET INFO:     source_code                  : 1\n",
      "COMET INFO: ---------------------------\n",
      "COMET INFO: Uploading metrics, params, and assets to Comet before program termination (may take several seconds)\n",
      "COMET INFO: The Python SDK has 3600 seconds to finish before aborting...\n",
      "COMET INFO: Waiting for completion of the file uploads (may take several seconds)\n",
      "COMET INFO: The Python SDK has 10800 seconds to finish before aborting...\n",
      "COMET INFO: Still uploading 1 file(s), remaining 3.34 MB/16.55 MB\n",
      "COMET INFO: Successfully registered 'daily-visits', version '1.0.0' in workspace 'drdevinhopkins'\n"
     ]
    },
    {
     "data": {
      "text/plain": [
       "{'registryModelId': 'FPWnMFcKwALMsby6mQf0t021e',\n",
       " 'registryModelItemId': 'Dq9VFmNYCx6ikNLwirlPHh7Zi'}"
      ]
     },
     "execution_count": 14,
     "metadata": {},
     "output_type": "execute_result"
    }
   ],
   "source": [
    "\n",
    "experiment.log_parameters(params)\n",
    "experiment.log_metrics(metrics.tail(1).iloc[0].to_dict())\n",
    "\n",
    "save(m, \"../models/daily-visits.np\")\n",
    "\n",
    "experiment.log_model(\"daily-visits\", \"../models/daily-visits.np\")\n",
    "\n",
    "# with open('../models/daily_visits_forecast_model.pkl', \"wb\") as f:\n",
    "#     pickle.dump(m, f)\n",
    "\n",
    "experiment_name = experiment.name\n",
    "\n",
    "experiment.end()\n",
    "\n",
    "\n",
    "api.delete_registry_model('drdevinhopkins', 'daily-visits')\n",
    "\n",
    "apiexp = api.get('drdevinhopkins/daily-visits/'+experiment_name)\n",
    "\n",
    "apiexp.register_model('daily-visits')\n"
   ]
  },
  {
   "cell_type": "code",
   "execution_count": 17,
   "metadata": {},
   "outputs": [
    {
     "data": {
      "application/vnd.jupyter.widget-view+json": {
       "model_id": "88e1045cf21e4613b6b58248312384a5",
       "version_major": 2,
       "version_minor": 0
      },
      "text/plain": [
       "Predicting: 0it [00:00, ?it/s]"
      ]
     },
     "metadata": {},
     "output_type": "display_data"
    }
   ],
   "source": [
    "# loaded_model = pickle.load(\n",
    "#     open('models/daily_visits_forecast_model.pkl', 'rb'))\n",
    "loaded_model = load(\"../models/daily-visits.np\")\n",
    "\n",
    "df = pd.read_csv(\n",
    "    'https://raw.githubusercontent.com/drdevinhopkins/hourly-report/main/data/daily-visits.csv')\n",
    "df.ds = pd.to_datetime(df.ds)\n",
    "df = df.sort_values(by='ds')\n",
    "# df['ID'] = 'test'\n",
    "\n",
    "# periods=m.n_forecasts, n_historic_predictions=False\n",
    "future = loaded_model.make_future_dataframe(df, periods=8)\n",
    "\n",
    "# forecast = loaded_model.predict(future, raw=True, decompose=False)\n",
    "\n",
    "# start = forecast.values.tolist()[-1][0]\n",
    "# forecast_length = len(forecast.values.tolist()[-1][1:])\n",
    "\n",
    "# forecast_output = pd.DataFrame(columns=['ds', 'visits', 'timestamp'])\n",
    "# forecast_output['ds'] = pd.date_range(\n",
    "#     start=start, periods=forecast_length, freq='D')\n",
    "# forecast_output['visits'] = forecast.values.tolist()[-1][1:]\n",
    "# forecast_output['timestamp'] = pd.Timestamp.now().round(\n",
    "#     'S').replace(tzinfo=None)\n",
    "# forecast_output.to_csv('forecasts/daily_visits.csv', index=False)\n",
    "\n",
    "\n",
    "forecast = loaded_model.predict(future,\n",
    "                                # raw=False,\n",
    "                                # decompose=False\n",
    "                                )\n",
    "\n",
    "forecast_trimmed = forecast[forecast.y.isnull()].set_index('ds')\n",
    "forecast_trimmed.to_csv('../forecasts/daily_visits_raw.csv')\n",
    "\n",
    "start = forecast_trimmed.index.tolist()[0]\n",
    "forecast_length = len(forecast_trimmed.index.tolist())\n",
    "i = 0\n",
    "timestamp = pd.Timestamp.now().round('S').replace(tzinfo=None)\n",
    "forecast_output_list = []\n",
    "for ds in pd.date_range(start=start, periods=forecast_length, freq='D'):\n",
    "    i = i+1\n",
    "    forecast_output_list.append(\n",
    "        {'ds': ds, 'visits': forecast_trimmed.loc[ds]['yhat'+str(i)], 'timestamp': timestamp})\n",
    "forecast_output = pd.DataFrame(forecast_output_list)\n",
    "forecast_output.to_csv('../forecasts/daily_visits.csv', index=False)"
   ]
  },
  {
   "cell_type": "code",
   "execution_count": null,
   "metadata": {},
   "outputs": [],
   "source": []
  }
 ],
 "metadata": {
  "kernelspec": {
   "display_name": "np2",
   "language": "python",
   "name": "python3"
  },
  "language_info": {
   "codemirror_mode": {
    "name": "ipython",
    "version": 3
   },
   "file_extension": ".py",
   "mimetype": "text/x-python",
   "name": "python",
   "nbconvert_exporter": "python",
   "pygments_lexer": "ipython3",
   "version": "3.8.0"
  },
  "orig_nbformat": 4,
  "vscode": {
   "interpreter": {
    "hash": "43b078a505a093af62ee57b44ef966198434ade2a062467d58429df42ba3cee2"
   }
  }
 },
 "nbformat": 4,
 "nbformat_minor": 2
}
