{
 "cells": [
  {
   "cell_type": "code",
   "execution_count": 4,
   "metadata": {},
   "outputs": [],
   "source": [
    "import pandas as pd\n",
    "from neuralprophet import NeuralProphet, set_log_level\n",
    "import pickle\n",
    "\n",
    "set_log_level(\"ERROR\")\n",
    "\n",
    "target_column = 'Total Stretcher pts'\n"
   ]
  },
  {
   "cell_type": "code",
   "execution_count": 6,
   "metadata": {},
   "outputs": [],
   "source": [
    "\n",
    "df = pd.read_csv('https://raw.githubusercontent.com/drdevinhopkins/hourly-report/main/data/since-2020.csv')\n",
    "df.ds = pd.to_datetime(df.ds)\n",
    "df = df.drop(['Date', 'Time'], axis=1)\n",
    "df = df.sort_values(by='ds', ascending=True)\n",
    "df.rename(columns = {target_column:'y', 'Adm. requests cum':\"Adm requests cum\", 'Pts.waiting for admission CUM':'Pts waiting for admission CUM'}, inplace = True)\n",
    "df.dropna(inplace=True)\n",
    "regressors = df.columns.tolist()\n",
    "regressors.remove('y')\n",
    "regressors.remove('ds')\n"
   ]
  },
  {
   "cell_type": "code",
   "execution_count": 7,
   "metadata": {},
   "outputs": [
    {
     "name": "stderr",
     "output_type": "stream",
     "text": [
      "WARNING - (py.warnings._showwarnmsg) - /opt/python/3.10.4/lib/python3.10/site-packages/neuralprophet/utils.py:251: FutureWarning: The frame.append method is deprecated and will be removed from pandas in a future version. Use pandas.concat instead.\n",
      "  additive_events_dims = additive_events_dims.append(\n",
      "\n",
      "WARNING - (py.warnings._showwarnmsg) - /opt/python/3.10.4/lib/python3.10/site-packages/neuralprophet/utils.py:251: FutureWarning: The frame.append method is deprecated and will be removed from pandas in a future version. Use pandas.concat instead.\n",
      "  additive_events_dims = additive_events_dims.append(\n",
      "\n",
      "WARNING - (py.warnings._showwarnmsg) - /opt/python/3.10.4/lib/python3.10/site-packages/neuralprophet/utils.py:251: FutureWarning: The frame.append method is deprecated and will be removed from pandas in a future version. Use pandas.concat instead.\n",
      "  additive_events_dims = additive_events_dims.append(\n",
      "\n",
      "WARNING - (py.warnings._showwarnmsg) - /opt/python/3.10.4/lib/python3.10/site-packages/neuralprophet/utils.py:251: FutureWarning: The frame.append method is deprecated and will be removed from pandas in a future version. Use pandas.concat instead.\n",
      "  additive_events_dims = additive_events_dims.append(\n",
      "\n",
      "WARNING - (py.warnings._showwarnmsg) - /opt/python/3.10.4/lib/python3.10/site-packages/neuralprophet/utils.py:251: FutureWarning: The frame.append method is deprecated and will be removed from pandas in a future version. Use pandas.concat instead.\n",
      "  additive_events_dims = additive_events_dims.append(\n",
      "\n",
      "WARNING - (py.warnings._showwarnmsg) - /opt/python/3.10.4/lib/python3.10/site-packages/neuralprophet/utils.py:251: FutureWarning: The frame.append method is deprecated and will be removed from pandas in a future version. Use pandas.concat instead.\n",
      "  additive_events_dims = additive_events_dims.append(\n",
      "\n",
      "WARNING - (py.warnings._showwarnmsg) - /opt/python/3.10.4/lib/python3.10/site-packages/neuralprophet/utils.py:251: FutureWarning: The frame.append method is deprecated and will be removed from pandas in a future version. Use pandas.concat instead.\n",
      "  additive_events_dims = additive_events_dims.append(\n",
      "\n",
      "WARNING - (py.warnings._showwarnmsg) - /opt/python/3.10.4/lib/python3.10/site-packages/neuralprophet/utils.py:251: FutureWarning: The frame.append method is deprecated and will be removed from pandas in a future version. Use pandas.concat instead.\n",
      "  additive_events_dims = additive_events_dims.append(\n",
      "\n",
      "WARNING - (py.warnings._showwarnmsg) - /opt/python/3.10.4/lib/python3.10/site-packages/neuralprophet/utils.py:251: FutureWarning: The frame.append method is deprecated and will be removed from pandas in a future version. Use pandas.concat instead.\n",
      "  additive_events_dims = additive_events_dims.append(\n",
      "\n",
      "WARNING - (py.warnings._showwarnmsg) - /opt/python/3.10.4/lib/python3.10/site-packages/neuralprophet/utils.py:251: FutureWarning: The frame.append method is deprecated and will be removed from pandas in a future version. Use pandas.concat instead.\n",
      "  additive_events_dims = additive_events_dims.append(\n",
      "\n",
      "WARNING - (py.warnings._showwarnmsg) - /opt/python/3.10.4/lib/python3.10/site-packages/neuralprophet/utils.py:251: FutureWarning: The frame.append method is deprecated and will be removed from pandas in a future version. Use pandas.concat instead.\n",
      "  additive_events_dims = additive_events_dims.append(\n",
      "\n",
      "WARNING - (py.warnings._showwarnmsg) - /opt/python/3.10.4/lib/python3.10/site-packages/neuralprophet/utils.py:251: FutureWarning: The frame.append method is deprecated and will be removed from pandas in a future version. Use pandas.concat instead.\n",
      "  additive_events_dims = additive_events_dims.append(\n",
      "\n",
      "WARNING - (py.warnings._showwarnmsg) - /opt/python/3.10.4/lib/python3.10/site-packages/neuralprophet/utils.py:251: FutureWarning: The frame.append method is deprecated and will be removed from pandas in a future version. Use pandas.concat instead.\n",
      "  additive_events_dims = additive_events_dims.append(\n",
      "\n",
      "Epoch[32/110]:  29%|██▉       | 32/110 [05:06<12:40,  9.75s/it, SmoothL1Loss=0.00398, MAE=4.94, RMSE=6.22, RegLoss=0]"
     ]
    }
   ],
   "source": [
    "\n",
    "m = NeuralProphet(\n",
    "  # growth='off',\n",
    "  yearly_seasonality=False,\n",
    "  weekly_seasonality=True,\n",
    "  daily_seasonality=True,\n",
    "  n_lags=48,\n",
    "  n_forecasts=12,\n",
    "  changepoints_range=0.95,\n",
    "  n_changepoints=50,\n",
    "  num_hidden_layers=4,\n",
    "  d_hidden=36,\n",
    "  learning_rate=0.005,\n",
    ")\n",
    "m = m.add_lagged_regressor(names=regressors)\n",
    "m = m.add_country_holidays(\"CA\")\n",
    "metrics = m.fit(df, \n",
    "                freq='H', \n",
    "                # progress='plot'\n",
    "                )\n",
    "print(metrics.tail(1))\n",
    "\n",
    "with open('../models/stretcher_occupancy_forecast_model.pkl', \"wb\") as f:\n",
    "    pickle.dump(m, f)"
   ]
  },
  {
   "cell_type": "code",
   "execution_count": null,
   "metadata": {},
   "outputs": [],
   "source": []
  }
 ],
 "metadata": {
  "kernelspec": {
   "display_name": "Python 3.10.4 64-bit",
   "language": "python",
   "name": "python3"
  },
  "language_info": {
   "codemirror_mode": {
    "name": "ipython",
    "version": 3
   },
   "file_extension": ".py",
   "mimetype": "text/x-python",
   "name": "python",
   "nbconvert_exporter": "python",
   "pygments_lexer": "ipython3",
   "version": "3.10.4"
  },
  "orig_nbformat": 4,
  "vscode": {
   "interpreter": {
    "hash": "4f946df053fbf2b937619d3c5458e7af74262f9a954d8797ba0b27400bcafe06"
   }
  }
 },
 "nbformat": 4,
 "nbformat_minor": 2
}
